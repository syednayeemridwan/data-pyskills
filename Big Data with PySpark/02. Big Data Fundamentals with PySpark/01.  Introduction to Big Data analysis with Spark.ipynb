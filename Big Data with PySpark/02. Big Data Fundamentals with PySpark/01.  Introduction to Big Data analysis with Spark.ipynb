{
 "cells": [
  {
   "cell_type": "markdown",
   "metadata": {},
   "source": [
    "- Print the version of SparkContext in the PySpark shell.\n",
    "- Print the Python version of SparkContext in the PySpark shell.\n",
    "- What is the master of SparkContext in the PySpark shell?"
   ]
  },
  {
   "cell_type": "code",
   "execution_count": 1,
   "metadata": {},
   "outputs": [],
   "source": [
    "# # Print the version of SparkContext\n",
    "# print(\"The version of Spark Context in the PySpark shell is\", sc.version)\n",
    "\n",
    "# # Print the Python version of SparkContext\n",
    "# print(\"The Python version of Spark Context in the PySpark shell is\", sc.pythonVer)\n",
    "\n",
    "# # Print the master of SparkContext\n",
    "# print(\"The master of Spark Context in the PySpark shell is\", sc.master)"
   ]
  },
  {
   "cell_type": "markdown",
   "metadata": {},
   "source": [
    "- Create a Python list named numb containing the numbers 1 to 100.\n",
    "- Load the list into Spark using Spark Context's parallelize method and assign it to a variable spark_data."
   ]
  },
  {
   "cell_type": "code",
   "execution_count": 2,
   "metadata": {},
   "outputs": [],
   "source": [
    "# # Create a Python list of numbers from 1 to 100 \n",
    "# numb = range(1, 100)\n",
    "\n",
    "# # Load the list into PySpark  \n",
    "# spark_data = sc.parallelize(numb)"
   ]
  },
  {
   "cell_type": "markdown",
   "metadata": {},
   "source": [
    "- Load a local text file README.md in PySpark shell."
   ]
  },
  {
   "cell_type": "code",
   "execution_count": 3,
   "metadata": {},
   "outputs": [],
   "source": [
    "# # Load a local file into PySpark shell\n",
    "# lines = sc.textFile(file_path)"
   ]
  },
  {
   "cell_type": "markdown",
   "metadata": {},
   "source": [
    "- Print my_list which is available in your environment.\n",
    "- Square each item in my_list using map() and lambda().\n",
    "- Print the result of map function."
   ]
  },
  {
   "cell_type": "code",
   "execution_count": 4,
   "metadata": {},
   "outputs": [],
   "source": [
    "# # Print my_list in the console\n",
    "# print(\"Input list is\", my_list)\n",
    "\n",
    "# # Square all numbers in my_list\n",
    "# squared_list_lambda = list(map(lambda x: x ** 2, my_list))\n",
    "\n",
    "# # Print the result of the map function\n",
    "# print(\"The squared numbers are\", squared_list_lambda)"
   ]
  },
  {
   "cell_type": "markdown",
   "metadata": {},
   "source": [
    "- Print my_list2 which is available in your environment.\n",
    "- Filter the numbers divisible by 10 from my_list2 using filter() and lambda().\n",
    "- Print the numbers divisible by 10 from my_list2."
   ]
  },
  {
   "cell_type": "code",
   "execution_count": 5,
   "metadata": {},
   "outputs": [],
   "source": [
    "# # Print my_list2 in the console\n",
    "# print(\"Input list is:\", my_list2)\n",
    "\n",
    "# # Filter numbers divisible by 10\n",
    "# filtered_list = list(filter(lambda x: (x%10 == 0), my_list2))\n",
    "\n",
    "# # Print the numbers divisible by 10\n",
    "# print(\"Numbers divisible by 10 are:\", filtered_list)"
   ]
  }
 ],
 "metadata": {
  "kernelspec": {
   "display_name": "Python 3.8.11 ('env_py')",
   "language": "python",
   "name": "python3"
  },
  "language_info": {
   "codemirror_mode": {
    "name": "ipython",
    "version": 3
   },
   "file_extension": ".py",
   "mimetype": "text/x-python",
   "name": "python",
   "nbconvert_exporter": "python",
   "pygments_lexer": "ipython3",
   "version": "3.8.11"
  },
  "orig_nbformat": 4,
  "vscode": {
   "interpreter": {
    "hash": "1e949e87132dd83f1a7623eb88007e3532b03b66b77111be347aa4a383049722"
   }
  }
 },
 "nbformat": 4,
 "nbformat_minor": 2
}
