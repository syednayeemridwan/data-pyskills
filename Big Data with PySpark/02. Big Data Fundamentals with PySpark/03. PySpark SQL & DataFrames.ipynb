{
 "cells": [
  {
   "cell_type": "markdown",
   "metadata": {},
   "source": [
    "- Create an RDD from the sample_list.\n",
    "- Create a PySpark DataFrame using the above RDD and schema.\n",
    "- Confirm the output as PySpark DataFrame."
   ]
  },
  {
   "cell_type": "code",
   "execution_count": 1,
   "metadata": {},
   "outputs": [],
   "source": [
    "# # Create an RDD from the list\n",
    "# rdd = sc.parallelize(sample_list)\n",
    "\n",
    "# # Create a PySpark DataFrame\n",
    "# names_df = spark.createDataFrame(rdd, schema=['Name', 'Age'])\n",
    "\n",
    "# # Check the type of names_df\n",
    "# print(\"The type of names_df is\", type(names_df))"
   ]
  },
  {
   "cell_type": "markdown",
   "metadata": {},
   "source": [
    "- Create a DataFrame from file_path variable which is the path to the people.csv file.\n",
    "- Confirm the output as PySpark DataFrame."
   ]
  },
  {
   "cell_type": "code",
   "execution_count": 1,
   "metadata": {},
   "outputs": [],
   "source": [
    "# # Create an DataFrame from file_path\n",
    "# people_df = spark.read.csv(file_path, header=True, inferSchema=True)\n",
    "\n",
    "# # Check the type of people_df\n",
    "# print(\"The type of people_df is\", type(people_df))"
   ]
  },
  {
   "cell_type": "markdown",
   "metadata": {},
   "source": [
    "- Print the first 10 observations in the people_df DataFrame.\n",
    "- Count the number of rows in the people_df DataFrame.\n",
    "- How many columns does people_df DataFrame have and what are their names?"
   ]
  },
  {
   "cell_type": "code",
   "execution_count": 2,
   "metadata": {},
   "outputs": [],
   "source": [
    "# # Print the first 10 observations \n",
    "# people_df.show(10)\n",
    "\n",
    "# # Count the number of rows \n",
    "# print(\"There are {} rows in the people_df DataFrame.\".format(people_df.count()))\n",
    "\n",
    "# # Count the number of columns and their names\n",
    "# print(\"There are {} columns in the people_df DataFrame and their names are {}\".format(len(people_df.columns), people_df.columns))"
   ]
  },
  {
   "cell_type": "markdown",
   "metadata": {},
   "source": [
    "- Select 'name', 'sex' and 'date of birth' columns from people_df and create people_df_sub DataFrame.\n",
    "- Print the first 10 observations in the people_df DataFrame.\n",
    "- Remove duplicate entries from people_df_sub DataFrame and create people_df_sub_nodup DataFrame.\n",
    "- How many rows are there before and after duplicates are removed?"
   ]
  },
  {
   "cell_type": "code",
   "execution_count": 3,
   "metadata": {},
   "outputs": [],
   "source": [
    "# # Select name, sex and date of birth columns\n",
    "# people_df_sub = people_df.select('name', \"sex\", \"date of birth\")\n",
    "\n",
    "# # Print the first 10 observations from people_df_sub\n",
    "# people_df_sub.show(10)\n",
    "\n",
    "# # Remove duplicate entries from people_df_sub\n",
    "# people_df_sub_nodup = people_df_sub.dropDuplicates()\n",
    "\n",
    "# # Count the number of rows\n",
    "# print(\"There were {} rows before removing duplicates, and {} rows after removing duplicates\".format(people_df_sub.count(), people_df_sub_nodup.count()))"
   ]
  },
  {
   "cell_type": "markdown",
   "metadata": {},
   "source": [
    "- Filter the people_df DataFrame to select all rows where sex is female into people_df_female DataFrame.\n",
    "- Filter the people_df DataFrame to select all rows where sex is male into people_df_male DataFrame.\n",
    "- Count the number of rows in people_df_female and people_df_male DataFrames."
   ]
  },
  {
   "cell_type": "code",
   "execution_count": 4,
   "metadata": {},
   "outputs": [],
   "source": [
    "# # Filter people_df to select females \n",
    "# people_df_female = people_df.filter(people_df.sex == \"female\")\n",
    "\n",
    "# # Filter people_df to select males\n",
    "# people_df_male = people_df.filter(people_df.sex == \"male\")\n",
    "\n",
    "# # Count the number of rows \n",
    "# print(\"There are {} rows in the people_df_female DataFrame and {} rows in the people_df_male DataFrame\".format(people_df_female.count(), people_df_male.count()))"
   ]
  },
  {
   "cell_type": "markdown",
   "metadata": {},
   "source": [
    "- Create a temporary table people that's a pointer to the people_df DataFrame.\n",
    "- Construct a query to select the names of the people from the temporary table people.\n",
    "- Assign the result of Spark's query to a new DataFrame - people_df_names.\n",
    "- Print the top 10 names of the people from people_df_names DataFrame."
   ]
  },
  {
   "cell_type": "code",
   "execution_count": 5,
   "metadata": {},
   "outputs": [],
   "source": [
    "# # Create a temporary table \"people\"\n",
    "# people_df.createOrReplaceTempView(\"people\")\n",
    "\n",
    "# # Construct a query to select the names of the people from the temporary table \"people\"\n",
    "# query = '''SELECT name FROM people'''\n",
    "\n",
    "# # Assign the result of Spark's query to people_df_names\n",
    "# people_df_names = spark.sql(query)\n",
    "\n",
    "# # Print the top 10 names of the people\n",
    "# people_df_names.show(10)"
   ]
  },
  {
   "cell_type": "markdown",
   "metadata": {},
   "source": [
    "- Filter the people table to select all rows where sex is female into people_female_df DataFrame.\n",
    "- Filter the people table to select all rows where sex is male into people_male_df DataFrame.\n",
    "- Count the number of rows in both people_female and people_male DataFrames."
   ]
  },
  {
   "cell_type": "code",
   "execution_count": 6,
   "metadata": {},
   "outputs": [],
   "source": [
    "# # Filter the people table to select female sex \n",
    "# people_female_df = spark.sql('SELECT * FROM people WHERE sex==\"female\"')\n",
    "\n",
    "# # Filter the people table DataFrame to select male sex\n",
    "# people_male_df = spark.sql('SELECT * FROM people WHERE sex==\"male\"')\n",
    "\n",
    "# # Count the number of rows in both DataFrames\n",
    "# print(\"There are {} rows in the people_female_df and {} rows in the people_male_df DataFrames\".format(people_female_df.count(), people_male_df.count()))"
   ]
  },
  {
   "cell_type": "markdown",
   "metadata": {},
   "source": [
    "- Print the names of the columns in names_df DataFrame.\n",
    "- Convert names_df DataFrame to df_pandas Pandas DataFrame.\n",
    "- Use matplotlib's plot() method to create a horizontal bar plot with 'Name' on x-axis and 'Age' on y-axis."
   ]
  },
  {
   "cell_type": "code",
   "execution_count": 7,
   "metadata": {},
   "outputs": [],
   "source": [
    "# # Check the column names of names_df\n",
    "# print(\"The column names of names_df are\", names_df.columns)\n",
    "\n",
    "# # Convert to Pandas DataFrame  \n",
    "# df_pandas = names_df.toPandas()\n",
    "\n",
    "# # Create a horizontal bar plot\n",
    "# df_pandas.plot(kind='barh', x='Name', y='Age', colormap='winter_r')\n",
    "# plt.show()"
   ]
  },
  {
   "cell_type": "markdown",
   "metadata": {},
   "source": [
    "- Create a PySpark DataFrame from file_path (which is the path to the Fifa2018_dataset.csv file).\n",
    "- Print the schema of the DataFrame.\n",
    "- Print the first 10 observations.\n",
    "- How many rows are in there in the DataFrame?"
   ]
  },
  {
   "cell_type": "code",
   "execution_count": 8,
   "metadata": {},
   "outputs": [],
   "source": [
    "# # Load the Dataframe\n",
    "# fifa_df = spark.read.csv(file_path, header=True, inferSchema=True)\n",
    "\n",
    "# # Check the schema of columns\n",
    "# fifa_df.printSchema()\n",
    "\n",
    "# # Show the first 10 observations\n",
    "# fifa_df.show(10)\n",
    "\n",
    "# # Print the total number of rows\n",
    "# print(\"There are {} rows in the fifa_df DataFrame\".format(fifa_df.count()))"
   ]
  },
  {
   "cell_type": "markdown",
   "metadata": {},
   "source": [
    "- Create temporary table fifa_df from fifa_df_table DataFrame.\n",
    "- Construct a \"query\" to extract the \"Age\" column from Germany players.\n",
    "- Apply the SQL \"query\" to the temporary view table and create a new DataFrame.\n",
    "- Computes basic statistics of the created DataFrame."
   ]
  },
  {
   "cell_type": "code",
   "execution_count": 9,
   "metadata": {},
   "outputs": [],
   "source": [
    "# # Create a temporary view of fifa_df\n",
    "# fifa_df.createOrReplaceTempView('fifa_df_table')\n",
    "\n",
    "# # Construct the \"query\"\n",
    "# query = '''SELECT Age FROM fifa_df_table WHERE Nationality == \"Germany\"'''\n",
    "\n",
    "# # Apply the SQL \"query\"\n",
    "# fifa_df_germany_age = spark.sql(query)\n",
    "\n",
    "# # Generate basic statistics\n",
    "# fifa_df_germany_age.describe().show()"
   ]
  },
  {
   "cell_type": "markdown",
   "metadata": {},
   "source": [
    "- Convert fifa_df_germany_age to fifa_df_germany_age_pandas Pandas DataFrame.\n",
    "- Generate a density plot of the 'Age' column from the fifa_df_germany_age_pandas Pandas DataFrame."
   ]
  },
  {
   "cell_type": "code",
   "execution_count": 10,
   "metadata": {},
   "outputs": [],
   "source": [
    "# # Convert fifa_df to fifa_df_germany_age_pandas DataFrame\n",
    "# fifa_df_germany_age_pandas = fifa_df_germany_age.toPandas()\n",
    "\n",
    "# # Plot the 'Age' density of Germany Players\n",
    "# fifa_df_germany_age_pandas.plot(kind='density')\n",
    "# plt.show()"
   ]
  }
 ],
 "metadata": {
  "kernelspec": {
   "display_name": "Python 3.8.11 ('env_py')",
   "language": "python",
   "name": "python3"
  },
  "language_info": {
   "codemirror_mode": {
    "name": "ipython",
    "version": 3
   },
   "file_extension": ".py",
   "mimetype": "text/x-python",
   "name": "python",
   "nbconvert_exporter": "python",
   "pygments_lexer": "ipython3",
   "version": "3.8.11"
  },
  "orig_nbformat": 4,
  "vscode": {
   "interpreter": {
    "hash": "1e949e87132dd83f1a7623eb88007e3532b03b66b77111be347aa4a383049722"
   }
  }
 },
 "nbformat": 4,
 "nbformat_minor": 2
}
