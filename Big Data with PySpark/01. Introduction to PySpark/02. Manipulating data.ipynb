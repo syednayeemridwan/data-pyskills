{
 "cells": [
  {
   "cell_type": "markdown",
   "metadata": {},
   "source": [
    "- Use the spark.table() method with the argument \"flights\" to create a DataFrame containing the values of the flights table in the .catalog. Save it as flights.\n",
    "- Show the head of flights using flights.show(). Check the output: the column air_time contains the duration of the flight in minutes.\n",
    "- Update flights to include a new column called duration_hrs, that contains the duration of each flight in hours (you'll need to divide air_time by the number of minutes in an hour)."
   ]
  },
  {
   "cell_type": "code",
   "execution_count": 1,
   "metadata": {},
   "outputs": [],
   "source": [
    "# # Create the DataFrame flights\n",
    "# flights = spark.table(\"flights\")\n",
    "\n",
    "# # Show the head\n",
    "# flights.show()\n",
    "\n",
    "# # Add duration_hrs\n",
    "# flights = flights.withColumn(\"duration_hrs\",flights.air_time/60)"
   ]
  },
  {
   "cell_type": "markdown",
   "metadata": {},
   "source": [
    "- Which of the following queries returns a table of tail numbers and destinations for flights that lasted more than 10 hours?"
   ]
  },
  {
   "cell_type": "code",
   "execution_count": 1,
   "metadata": {},
   "outputs": [],
   "source": [
    "# SELECT dest, tail_num FROM flights WHERE air_time > 600;"
   ]
  },
  {
   "cell_type": "markdown",
   "metadata": {},
   "source": [
    "What information would this query get? Remember the flights table holds information about flights that departed PDX and SEA in 2014 and 2015. Note that AVG() function gets the average value of a column!\n",
    "```\n",
    "SELECT AVG(air_time) / 60 FROM flights\n",
    "GROUP BY origin, carrier;\n",
    "```\n",
    "- The average length of each airline's flights from SEA and from PDX in hours."
   ]
  },
  {
   "cell_type": "markdown",
   "metadata": {},
   "source": [
    "- Use the .filter() method to find all the flights that flew over 1000 miles two ways:\n",
    "- First, pass a SQL string to .filter() that checks whether the distance is greater than 1000. Save this as long_flights1.\n",
    "- Then pass a column of boolean values to .filter() that checks the same thing. Save this as long_flights2.\n",
    "- Use .show() to print heads of both DataFrames and make sure they're actually equal!"
   ]
  },
  {
   "cell_type": "code",
   "execution_count": 2,
   "metadata": {},
   "outputs": [],
   "source": [
    "# # Filter flights by passing a string\n",
    "# long_flights1 = flights.filter(\"distance > 1000\")\n",
    "\n",
    "# # Filter flights by passing a column of boolean values\n",
    "# long_flights2 = flights.filter(flights.distance > 1000)\n",
    "\n",
    "# # Print the data to check they're equal\n",
    "# long_flights1.show()\n",
    "# long_flights2.show()"
   ]
  },
  {
   "cell_type": "markdown",
   "metadata": {},
   "source": [
    "- Select the columns \"tailnum\", \"origin\", and \"dest\" from flights by passing the column names as strings. Save this as selected1.\n",
    "- Select the columns \"origin\", \"dest\", and \"carrier\" using the df.colName syntax and then filter the result using both of the filters already defined for you (filterA and filterB) to only keep flights from SEA to PDX. Save this as selected2."
   ]
  },
  {
   "cell_type": "code",
   "execution_count": 3,
   "metadata": {},
   "outputs": [],
   "source": [
    "# # Select the first set of columns\n",
    "# selected1 = flights.select(\"tailnum\", \"origin\", \"dest\")\n",
    "\n",
    "# # Select the second set of columns\n",
    "# temp = flights.select(flights.origin, flights.dest, flights.carrier)\n",
    "\n",
    "# # Define first filter\n",
    "# filterA = flights.origin == \"SEA\"\n",
    "\n",
    "# # Define second filter\n",
    "# filterB = flights.dest == \"PDX\"\n",
    "\n",
    "# # Filter the data, first by filterA then by filterB\n",
    "# selected2 = temp.filter(filterA).filter(filterB)"
   ]
  },
  {
   "cell_type": "markdown",
   "metadata": {},
   "source": [
    "Create a table of the average speed of each flight both ways.\n",
    "\n",
    "- Calculate average speed by dividing the distance by the air_time (converted to hours). Use the .alias() method name this column \"avg_speed\". Save the output as the variable avg_speed.\n",
    "- Select the columns \"origin\", \"dest\", \"tailnum\", and avg_speed (without quotes!). Save this as speed1.\n",
    "- Create the same table using .selectExpr() and a string containing a SQL expression. Save this as speed2."
   ]
  },
  {
   "cell_type": "code",
   "execution_count": 4,
   "metadata": {},
   "outputs": [],
   "source": [
    "# # Define avg_speed\n",
    "# avg_speed = (flights.distance/(flights.air_time/60)).alias(\"avg_speed\")\n",
    "\n",
    "# # Select the correct columns\n",
    "# speed1 = flights.select(\"origin\", \"dest\", \"tailnum\", avg_speed)\n",
    "\n",
    "# # Create the same table using a SQL expression\n",
    "# speed2 = flights.selectExpr(\"origin\", \"dest\", \"tailnum\", \"distance/(air_time/60) as avg_speed\")"
   ]
  },
  {
   "cell_type": "markdown",
   "metadata": {},
   "source": [
    "- Find the length of the shortest (in terms of distance) flight that left PDX by first .filter()ing and using the .min() method. Perform the filtering by referencing the column directly, not passing a SQL string.\n",
    "- Find the length of the longest (in terms of time) flight that left SEA by filter()ing and using the .max() method. Perform the filtering by referencing the column directly, not passing a SQL string."
   ]
  },
  {
   "cell_type": "code",
   "execution_count": 5,
   "metadata": {},
   "outputs": [],
   "source": [
    "# # Find the shortest flight from PDX in terms of distance\n",
    "# flights.filter(flights.origin == \"PDX\").groupBy().min(\"distance\").show()\n",
    "\n",
    "# # Find the longest flight from SEA in terms of air time\n",
    "# flights.filter(flights.origin == \"SEA\").groupBy().max(\"air_time\").show()"
   ]
  },
  {
   "cell_type": "markdown",
   "metadata": {},
   "source": [
    "- Use the .avg() method to get the average air time of Delta Airlines flights (where the carrier column has the value \"DL\") that left SEA. The place of departure is stored in the column origin. show() the result.\n",
    "- Use the .sum() method to get the total number of hours all planes in this dataset spent in the air by creating a column called duration_hrs from the column air_time. show() the result."
   ]
  },
  {
   "cell_type": "code",
   "execution_count": 6,
   "metadata": {},
   "outputs": [],
   "source": [
    "# # Average duration of Delta flights\n",
    "# flights.filter(flights.origin == \"SEA\").filter(flights.carrier == \"DL\").groupBy().avg(\"air_time\").show()\n",
    "\n",
    "# # Total hours in the air\n",
    "# flights.withColumn(\"duration_hrs\", flights.air_time/60).groupBy().sum(\"duration_hrs\").show()"
   ]
  },
  {
   "cell_type": "markdown",
   "metadata": {},
   "source": [
    "- Create a DataFrame called by_plane that is grouped by the column tailnum.\n",
    "- Use the .count() method with no arguments to count the number of flights each plane made.\n",
    "- Create a DataFrame called by_origin that is grouped by the column origin.\n",
    "- Find the .avg() of the air_time column to find average duration of flights from PDX and SEA."
   ]
  },
  {
   "cell_type": "code",
   "execution_count": 7,
   "metadata": {},
   "outputs": [],
   "source": [
    "# # Group by tailnum\n",
    "# by_plane = flights.groupBy(\"tailnum\")\n",
    "\n",
    "# # Number of flights each plane made\n",
    "# by_plane.count().show()\n",
    "\n",
    "# # Group by origin\n",
    "# by_origin = flights.groupBy(\"origin\")\n",
    "\n",
    "# # Average duration of flights from PDX and SEA\n",
    "# by_origin.avg(\"air_time\").show()"
   ]
  },
  {
   "cell_type": "markdown",
   "metadata": {},
   "source": [
    "- Import the submodule pyspark.sql.functions as F.\n",
    "- Create a GroupedData table called by_month_dest that's grouped by both the month and dest columns. Refer to the two columns by passing both strings as separate arguments.\n",
    "- Use the .avg() method on the by_month_dest DataFrame to get the average dep_delay in each month for each destination.\n",
    "- Find the standard deviation of dep_delay by using the .agg() method with the function F.stddev()."
   ]
  },
  {
   "cell_type": "code",
   "execution_count": 8,
   "metadata": {},
   "outputs": [],
   "source": [
    "# # Import pyspark.sql.functions as F\n",
    "# import pyspark.sql.functions as F\n",
    "\n",
    "# # Group by month and dest\n",
    "# by_month_dest = flights.groupBy(\"month\",\"dest\")\n",
    "\n",
    "# # Average departure delay by month and destination\n",
    "# by_month_dest.avg(\"dep_delay\").show()\n",
    "\n",
    "# # Standard deviation of departure delay\n",
    "# by_month_dest.agg(F.stddev(\"dep_delay\")).show()"
   ]
  },
  {
   "cell_type": "markdown",
   "metadata": {},
   "source": [
    "- Examine the airports DataFrame by calling .show(). Note which key column will let you join airports to the flights table.\n",
    "- Rename the faa column in airports to dest by re-assigning the result of airports.withColumnRenamed(\"faa\", \"dest\") to airports.\n",
    "- Join the flights with the airports DataFrame on the dest column by calling the .join() method on flights. Save the result as flights_with_airports.\n",
    "- The first argument should be the other DataFrame, airports.\n",
    "- The argument on should be the key column.\n",
    "- The argument how should be \"leftouter\".\n",
    "- Call .show() on flights_with_airports to examine the data again. Note the new information that has been added."
   ]
  },
  {
   "cell_type": "code",
   "execution_count": 9,
   "metadata": {},
   "outputs": [],
   "source": [
    "# # Examine the data\n",
    "# print(airports.show())\n",
    "\n",
    "# # Rename the faa column\n",
    "# airports = airports.withColumnRenamed(\"faa\", \"dest\")\n",
    "\n",
    "# # Join the DataFrames\n",
    "# flights_with_airports = flights.join(airports,how=\"leftouter\",on = \"dest\")\n",
    "\n",
    "# # Examine the new DataFrame\n",
    "# print(flights_with_airports.show())"
   ]
  }
 ],
 "metadata": {
  "kernelspec": {
   "display_name": "Python 3.8.11 ('env_py')",
   "language": "python",
   "name": "python3"
  },
  "language_info": {
   "codemirror_mode": {
    "name": "ipython",
    "version": 3
   },
   "file_extension": ".py",
   "mimetype": "text/x-python",
   "name": "python",
   "nbconvert_exporter": "python",
   "pygments_lexer": "ipython3",
   "version": "3.8.11"
  },
  "orig_nbformat": 4,
  "vscode": {
   "interpreter": {
    "hash": "1e949e87132dd83f1a7623eb88007e3532b03b66b77111be347aa4a383049722"
   }
  }
 },
 "nbformat": 4,
 "nbformat_minor": 2
}
