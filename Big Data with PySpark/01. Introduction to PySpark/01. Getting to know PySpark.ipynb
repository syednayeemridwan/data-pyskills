{
 "cells": [
  {
   "cell_type": "markdown",
   "metadata": {},
   "source": [
    "# What is Spark, anyway?"
   ]
  },
  {
   "cell_type": "markdown",
   "metadata": {},
   "source": [
    "Spark is a platform for cluster computing. Spark lets you spread data and computations over clusters with multiple nodes (think of each node as a separate computer). Splitting up your data makes it easier to work with very large datasets because each node only works with a small amount of data.\n",
    "\n",
    "As each node works on its own subset of the total data, it also carries out a part of the total calculations required, so that both data processing and computation are performed in parallel over the nodes in the cluster. It is a fact that parallel computation can make certain types of programming tasks much faster.\n",
    "\n",
    "However, with greater computing power comes greater complexity.\n",
    "\n",
    "Deciding whether or not Spark is the best solution for your problem takes some experience, but you can consider questions like:\n",
    "\n",
    "Is my data too big to work with on a single machine?\n",
    "Can my calculations be easily parallelized?"
   ]
  },
  {
   "cell_type": "markdown",
   "metadata": {},
   "source": [
    "# Using Spark in Python"
   ]
  },
  {
   "cell_type": "markdown",
   "metadata": {},
   "source": [
    "The first step in using Spark is connecting to a cluster.\n",
    "\n",
    "In practice, the cluster will be hosted on a remote machine that's connected to all other nodes. There will be one computer, called the master that manages splitting up the data and the computations. The master is connected to the rest of the computers in the cluster, which are called worker. The master sends the workers data and calculations to run, and they send their results back to the master.\n",
    "\n",
    "Creating the connection is as simple as creating an instance of the `SparkContext` class. The class constructor takes a few optional arguments that allow you to specify the attributes of the cluster you're connecting to.\n",
    "\n",
    "An object holding all these attributes can be created with the `SparkConf()` constructor. Take a look at the documentation for all the details!\n",
    "\n",
    "How do you connect to a Spark cluster from PySpark?\n",
    "- Create an instance of the SparkContext class."
   ]
  },
  {
   "cell_type": "markdown",
   "metadata": {},
   "source": [
    "Get to know the SparkContext.\n",
    "\n",
    "- Call print() on sc to verify there's a SparkContext in your environment.\n",
    "- print() sc.version to see what version of Spark is running on your cluster."
   ]
  },
  {
   "cell_type": "code",
   "execution_count": 1,
   "metadata": {},
   "outputs": [],
   "source": [
    "# # Verify SparkContext\n",
    "# print(sc)\n",
    "\n",
    "# # Print Spark version\n",
    "# print(sc.version)"
   ]
  },
  {
   "cell_type": "markdown",
   "metadata": {},
   "source": [
    "# Using DataFrames"
   ]
  },
  {
   "cell_type": "markdown",
   "metadata": {},
   "source": [
    "Spark's core data structure is the Resilient Distributed Dataset (RDD). This is a low level object that lets Spark work its magic by splitting data across multiple nodes in the cluster. However, RDDs are hard to work with directly, so in this course you'll be using the Spark DataFrame abstraction built on top of RDDs.\n",
    "\n",
    "The Spark DataFrame was designed to behave a lot like a SQL table (a table with variables in the columns and observations in the rows). Not only are they easier to understand, DataFrames are also more optimized for complicated operations than RDDs.\n",
    "\n",
    "When you start modifying and combining columns and rows of data, there are many ways to arrive at the same result, but some often take much longer than others. When using RDDs, it's up to the data scientist to figure out the right way to optimize the query, but the DataFrame implementation has much of this optimization built in!\n",
    "\n",
    "To start working with Spark DataFrames, you first have to create a `SparkSession` object from your `SparkContext`. You can think of the `SparkContext` as your connection to the cluster and the `SparkSession` as your interface with that connection.\n",
    "\n",
    "Which of the following is an advantage of Spark DataFrames over RDDs?\n",
    "- Operations using DataFrames are automatically optimized."
   ]
  },
  {
   "cell_type": "markdown",
   "metadata": {},
   "source": [
    "- Import SparkSession from pyspark.sql.\n",
    "- Make a new SparkSession called my_spark using SparkSession.builder.getOrCreate().\n",
    "- Print my_spark to the console to verify it's a SparkSession."
   ]
  },
  {
   "cell_type": "code",
   "execution_count": 1,
   "metadata": {},
   "outputs": [],
   "source": [
    "# # Import SparkSession from pyspark.sql\n",
    "# from pyspark.sql import SparkSession\n",
    "\n",
    "# # Create my_spark\n",
    "# my_spark = SparkSession.builder.getOrCreate()\n",
    "\n",
    "# # Print my_spark\n",
    "# print(my_spark)"
   ]
  },
  {
   "cell_type": "markdown",
   "metadata": {},
   "source": [
    "- See what tables are in your cluster by calling spark.catalog.listTables() and printing the result!"
   ]
  },
  {
   "cell_type": "code",
   "execution_count": 2,
   "metadata": {},
   "outputs": [],
   "source": [
    "# # Print the tables in the catalog\n",
    "# print(spark.catalog.listTables())"
   ]
  },
  {
   "cell_type": "markdown",
   "metadata": {},
   "source": [
    "- Use the .sql() method to get the first 10 rows of the flights table and save the result to flights10. The variable query contains the appropriate SQL query.\n",
    "- Use the DataFrame method .show() to print flights10"
   ]
  },
  {
   "cell_type": "code",
   "execution_count": 3,
   "metadata": {},
   "outputs": [],
   "source": [
    "# # Don't change this query\n",
    "# query = \"FROM flights SELECT * LIMIT 10\"\n",
    "\n",
    "# # Get the first 10 rows of flights\n",
    "# flights10 = spark.sql(query)\n",
    "\n",
    "# # Show the results\n",
    "# flights10.show()"
   ]
  },
  {
   "cell_type": "markdown",
   "metadata": {},
   "source": [
    "- Run the query using the .sql() method. Save the result in flight_counts.\n",
    "- Use the .toPandas() method on flight_counts to create a pandas DataFrame called pd_counts.\n",
    "- Print the .head() of pd_counts to the console."
   ]
  },
  {
   "cell_type": "code",
   "execution_count": 4,
   "metadata": {},
   "outputs": [],
   "source": [
    "# # Don't change this query\n",
    "# query = \"SELECT origin, dest, COUNT(*) as N FROM flights GROUP BY origin, dest\"\n",
    "\n",
    "# # Run the query\n",
    "# flight_counts = spark.sql(query)\n",
    "\n",
    "# # Convert the results to a pandas DataFrame\n",
    "# pd_counts = flight_counts.toPandas()\n",
    "\n",
    "# # Print the head of pd_counts\n",
    "# print(pd_counts.head())"
   ]
  },
  {
   "cell_type": "markdown",
   "metadata": {},
   "source": [
    "- The code to create a pandas DataFrame of random numbers has already been provided and saved under pd_temp.\n",
    "- Create a Spark DataFrame called spark_temp by calling the Spark method .createDataFrame() with pd_temp as the argument.\n",
    "- Examine the list of tables in your Spark cluster and verify that the new DataFrame is not present. Remember you can use spark.catalog.listTables() to do so.\n",
    "- Register the spark_temp DataFrame you just created as a temporary table using the .createOrReplaceTempView() method. THe temporary table should be named \"temp\". Remember that the table name is set including it as the only argument to your method!\n",
    "- Examine the list of tables again."
   ]
  },
  {
   "cell_type": "code",
   "execution_count": 5,
   "metadata": {},
   "outputs": [],
   "source": [
    "# # Create pd_temp\n",
    "# pd_temp = pd.DataFrame(np.random.random(10))\n",
    "\n",
    "# # Create spark_temp from pd_temp\n",
    "# spark_temp = spark.createDataFrame(pd_temp)\n",
    "\n",
    "# # Examine the tables in the catalog\n",
    "# print(spark.catalog.listTables())\n",
    "\n",
    "# # Add spark_temp to the catalog\n",
    "# spark_temp.createOrReplaceTempView(\"temp\")\n",
    "\n",
    "# # Examine the tables in the catalog again\n",
    "# print(spark.catalog.listTables())"
   ]
  },
  {
   "cell_type": "markdown",
   "metadata": {},
   "source": [
    "- Use the .read.csv() method to create a Spark DataFrame called airports\n",
    "- The first argument is file_path\n",
    "- Pass the argument header=True so that Spark knows to take the column names from the first line of the file.\n",
    "- Print out this DataFrame by calling .show()."
   ]
  },
  {
   "cell_type": "code",
   "execution_count": 6,
   "metadata": {},
   "outputs": [],
   "source": [
    "# # Don't change this file path\n",
    "# file_path = \"/usr/local/share/datasets/airports.csv\"\n",
    "\n",
    "# # Read in the airports data\n",
    "# airports = spark.read.csv(file_path, header=True)\n",
    "\n",
    "# # Show the data\n",
    "# airports.show()"
   ]
  }
 ],
 "metadata": {
  "kernelspec": {
   "display_name": "Python 3.8.11 ('env_py')",
   "language": "python",
   "name": "python3"
  },
  "language_info": {
   "codemirror_mode": {
    "name": "ipython",
    "version": 3
   },
   "file_extension": ".py",
   "mimetype": "text/x-python",
   "name": "python",
   "nbconvert_exporter": "python",
   "pygments_lexer": "ipython3",
   "version": "3.8.11"
  },
  "orig_nbformat": 4,
  "vscode": {
   "interpreter": {
    "hash": "1e949e87132dd83f1a7623eb88007e3532b03b66b77111be347aa4a383049722"
   }
  }
 },
 "nbformat": 4,
 "nbformat_minor": 2
}
